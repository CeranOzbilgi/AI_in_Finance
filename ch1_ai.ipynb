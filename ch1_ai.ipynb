{
  "nbformat": 4,
  "nbformat_minor": 0,
  "metadata": {
    "colab": {
      "name": "ch1_ai.ipynb",
      "provenance": [],
      "authorship_tag": "ABX9TyM3IXeMhNIt+q2ISDMSAFLB",
      "include_colab_link": true
    },
    "kernelspec": {
      "name": "python3",
      "display_name": "Python 3"
    },
    "language_info": {
      "name": "python"
    }
  },
  "cells": [
    {
      "cell_type": "markdown",
      "metadata": {
        "id": "view-in-github",
        "colab_type": "text"
      },
      "source": [
        "<a href=\"https://colab.research.google.com/github/CeranOzbilgi/ai_in_Finance/blob/main/ch1_ai.ipynb\" target=\"_parent\"><img src=\"https://colab.research.google.com/assets/colab-badge.svg\" alt=\"Open In Colab\"/></a>"
      ]
    },
    {
      "cell_type": "markdown",
      "source": [
        "# CHAPTER 1 - Artificial Intelligence\n",
        "\n",
        "\n",
        "> This is the first time that a computer program has defeated a human professional player in the full-sized game of Go, a feat previously thought to be at least a decade away.\n",
        "                                                  —David Silver et al. (2016)\n",
        "\n",
        "\n",
        "\n"
      ],
      "metadata": {
        "id": "z_DKliNsJDAK"
      }
    },
    {
      "cell_type": "markdown",
      "source": [
        "This chapter introduces general notions, ideas, and definitions from the field of artifi‐ cial intelligence (AI) for the purposes of this book. It also provides worked-out exam‐ ples for different types of major learning algorithms. In particular, “Algorithms” on page 3 takes a broad perspective and categorizes types of data, types of learning, and types of problems typically encountered in an AI context. This chapter also presents examples for unsupervised and reinforcement learning. “Neural Networks” on page 9 jumps right into the world of neural networks, which not only are central to what fol‐ lows in later chapters of the book but also have proven to be among the most power‐ ful algorithms AI has to offer nowadays. “Importance of Data” on page 22 discusses the importance of data volume and variety in the context of AI."
      ],
      "metadata": {
        "id": "hNtjd6SAoct8"
      }
    },
    {
      "cell_type": "markdown",
      "source": [
        "## Algorithms"
      ],
      "metadata": {
        "id": "jjpnALUVwDYL"
      }
    },
    {
      "cell_type": "markdown",
      "source": [
        "This section introduces basic notions from the field of AI relevant to this book. It dis‐ cusses the different types of data, learning, problems, and approaches that can be sub‐ sumed under the general term AI. Alpaydin (2016) provides an informal introduction to and overview of many of the topics covered only briefly in this section, along with many examples."
      ],
      "metadata": {
        "id": "n1LlxezWwN-H"
      }
    },
    {
      "cell_type": "markdown",
      "source": [
        "### Types of Data"
      ],
      "metadata": {
        "id": "_-gbeykDwPYe"
      }
    },
    {
      "cell_type": "markdown",
      "source": [
        "Data in general has two major components:\n",
        "Features\n",
        "\n",
        "\n",
        "> Features data (or input data) is data that is given as input to an algorithm. In a financial context, this might be, for example, the income and the savings of a potential debtor.\n",
        "\n",
        "Labels\n",
        "\n",
        "\n",
        "> Labels data (or output data) is data that is given as the relevant output to be learned, for example, by a supervised learning algorithm. In a financial context, this might be the creditworthiness of a potential debtor.\n",
        "\n"
      ],
      "metadata": {
        "id": "bfDidsONwYo5"
      }
    },
    {
      "cell_type": "markdown",
      "source": [
        "### Types of Learning"
      ],
      "metadata": {
        "id": "JLsWKKHMwtfu"
      }
    },
    {
      "cell_type": "markdown",
      "source": [
        "Supervised learning (SL)\n",
        "\n",
        "\n",
        "> These are algorithms that learn from a given sample data set of features (input) and labels (output) values. The next section presents examples for such algo‐ rithms, like ordinary least-squares (OLS) regression and neural networks. The purpose of supervised learning is to learn the relationship between the input and output values. In finance, such algorithms might be trained to predict whether a potential debtor is creditworthy or not. For the purposes of this book, these are the most important types of algorithms.\n",
        "\n",
        "Unsupervised learning (UL)\n",
        "\n",
        "\n",
        "> These are algorithms that learn from a given sample data set of features (input) values only, often with the goal of finding structure in the data. They are sup‐ posed to learn about the input data set, given, for example, some guiding param‐ eters. Clustering algorithms fall into that category. In a financial context, such algorithms might cluster stocks into certain groups.\n",
        "\n",
        "Reinforcement learning (RL)\n",
        "\n",
        "\n",
        "> These are algorithms that learn from trial and error by receiving a reward for tak‐ ing an action. They update an optimal action policy according to what rewards and punishments they receive. Such algorithms are, for example, used for envi‐ ronments where actions need to be taken continuously and rewards are received immediately, such as in a computer game.\n",
        "\n",
        "Because supervised learning is addressed in the subsequent section in some detail, brief examples will illustrate unsupervised learning and reinforcement learning."
      ],
      "metadata": {
        "id": "pDuvxpjVw0fX"
      }
    },
    {
      "cell_type": "markdown",
      "source": [
        "## Unsupervised Learning"
      ],
      "metadata": {
        "id": "_dUFgd0Vouju"
      }
    },
    {
      "cell_type": "markdown",
      "source": [
        "Simply speaking, a k-means clustering algorithm sorts n observations into k clusters. Each observation belongs to the cluster to which its mean (center) is nearest. The fol‐ lowing Python code generates sample data for which the features data is clustered. Figure 1-1 visualizes the clustered sample data and also shows that the scikit-learn KMeans algorithm used here has identified the clusters perfectly. The coloring of the dots is based on what the algorithm has learned.1\n",
        "\n",
        "\n",
        "---\n",
        "\n",
        "\n",
        "1 For details, see sklearn.cluster.KMeans and VanderPlas (2017, ch. 5)."
      ],
      "metadata": {
        "id": "3tGDil76o0hs"
      }
    },
    {
      "cell_type": "code",
      "execution_count": 1,
      "metadata": {
        "id": "w9arfgYDFRxM"
      },
      "outputs": [],
      "source": [
        "import numpy as np \n",
        "import pandas as pd\n",
        "\n",
        "from pylab import plt, mpl \n",
        "plt.style.use('seaborn') \n",
        "mpl.rcParams['savefig.dpi'] = 300 \n",
        "mpl.rcParams['font.family'] = 'serif' \n",
        "np.set_printoptions(precision=4, suppress=True)"
      ]
    },
    {
      "cell_type": "code",
      "source": [
        "from sklearn.cluster import KMeans \n",
        "from sklearn.datasets import make_blobs"
      ],
      "metadata": {
        "id": "bB_2IkVrF9hl"
      },
      "execution_count": 2,
      "outputs": []
    },
    {
      "cell_type": "code",
      "source": [
        "x, y = make_blobs(n_samples=100, centers=4, random_state=500, cluster_std=1.25)"
      ],
      "metadata": {
        "id": "pyiPboqJGA07"
      },
      "execution_count": 3,
      "outputs": []
    },
    {
      "cell_type": "code",
      "source": [
        "model = KMeans(n_clusters=4, random_state=0)"
      ],
      "metadata": {
        "id": "DgipcIluGEIU"
      },
      "execution_count": 4,
      "outputs": []
    },
    {
      "cell_type": "code",
      "source": [
        "model.fit(x)"
      ],
      "metadata": {
        "colab": {
          "base_uri": "https://localhost:8080/"
        },
        "id": "ib2rMq31GJyK",
        "outputId": "84675330-4a3a-4fdd-89dc-59a17b071c1e"
      },
      "execution_count": 5,
      "outputs": [
        {
          "output_type": "execute_result",
          "data": {
            "text/plain": [
              "KMeans(n_clusters=4, random_state=0)"
            ]
          },
          "metadata": {},
          "execution_count": 5
        }
      ]
    },
    {
      "cell_type": "code",
      "source": [
        "y_ = model.predict(x)"
      ],
      "metadata": {
        "id": "cN4TDn_9HONG"
      },
      "execution_count": 6,
      "outputs": []
    },
    {
      "cell_type": "code",
      "source": [
        "y_"
      ],
      "metadata": {
        "colab": {
          "base_uri": "https://localhost:8080/"
        },
        "id": "VFxd5L6yHO-y",
        "outputId": "751fa1a7-4500-44a3-db36-d8b655b0509f"
      },
      "execution_count": 7,
      "outputs": [
        {
          "output_type": "execute_result",
          "data": {
            "text/plain": [
              "array([0, 0, 2, 1, 2, 2, 0, 1, 2, 1, 1, 0, 1, 3, 3, 0, 1, 3, 1, 3, 3, 0,\n",
              "       2, 1, 2, 2, 3, 3, 2, 0, 1, 2, 2, 3, 2, 0, 2, 0, 1, 1, 1, 2, 3, 3,\n",
              "       0, 2, 1, 3, 1, 3, 0, 3, 2, 3, 2, 0, 2, 1, 3, 0, 2, 3, 0, 1, 0, 3,\n",
              "       2, 2, 2, 1, 0, 2, 1, 3, 1, 0, 1, 3, 1, 1, 2, 0, 2, 0, 1, 1, 0, 1,\n",
              "       3, 3, 3, 0, 0, 0, 0, 3, 0, 2, 3, 3], dtype=int32)"
            ]
          },
          "metadata": {},
          "execution_count": 7
        }
      ]
    },
    {
      "cell_type": "code",
      "source": [
        "plt.figure(figsize=(10, 6))\n",
        "plt.scatter(x[:, 0], x[:, 1], c=y_,  cmap='coolwarm');\n",
        "# Add title and axis names\n",
        "plt.title('Unsupervised learning of clusters')\n",
        "plt.xlabel('categories')\n",
        "plt.ylabel('values')"
      ],
      "metadata": {
        "colab": {
          "base_uri": "https://localhost:8080/",
          "height": 421
        },
        "id": "v90O6_Y3HraL",
        "outputId": "aa723020-c457-40cc-895b-edfaa9144a02"
      },
      "execution_count": 8,
      "outputs": [
        {
          "output_type": "execute_result",
          "data": {
            "text/plain": [
              "Text(0, 0.5, 'values')"
            ]
          },
          "metadata": {},
          "execution_count": 8
        },
        {
          "output_type": "display_data",
          "data": {
            "text/plain": [
              "<Figure size 720x432 with 1 Axes>"
            ],
            "image/png": "[encoded data removed]"
          },
          "metadata": {
            "needs_background": "light"
          }
        }
      ]
    },
    {
      "cell_type": "markdown",
      "source": [
        "\n",
        "\n",
        "1.   A sample data set is created with clustered features data.\n",
        "2.   A KMeans model object is instantiated, fixing the number of clusters.\n",
        "3.   The model is fitted to the features data.\n",
        "4.   The predictions are generated given the fitted model.\n",
        "5.   The predictions are numbers from 0 to 3, each representing one cluster.\n"
      ],
      "metadata": {
        "id": "t1GwB7_Msnmn"
      }
    },
    {
      "cell_type": "markdown",
      "source": [
        "Once an algorithm such as KMeans is trained, it can, for instance, predict the cluster for a new (not yet seen) combination of features values. Assume that such an algo‐ rithm is trained on features data that describes potential and real debtors of a bank. It might learn about the creditworthiness of potential debtors by generating two clus‐ ters. New potential debtors can then be sorted into a certain cluster: “creditworthy” versus “not creditworthy.”"
      ],
      "metadata": {
        "id": "QiyWLLPYsQ6y"
      }
    },
    {
      "cell_type": "markdown",
      "source": [
        "## Reinforcement learning"
      ],
      "metadata": {
        "id": "tbpVPcpixTOn"
      }
    },
    {
      "cell_type": "markdown",
      "source": [
        "The following example is based on a coin tossing game that is played with a coin that lands 80% of the time on heads and 20% of the time on tails. The coin tossing game is heavily biased to emphasize the benefits of learning as compared to an uninformed baseline algorithm. The baseline algorithm, which bets randomly and equally distrib‐ utes on heads and tails, achieves a total reward of around 50, on average, per epoch of 100 bets played:"
      ],
      "metadata": {
        "id": "T0pUtRhnxZjU"
      }
    },
    {
      "cell_type": "code",
      "source": [
        "# The state space (1 = heads, 0 = tails).\n",
        "ssp=[1,1,1,1,0]"
      ],
      "metadata": {
        "id": "VKx_0_M0xc2W"
      },
      "execution_count": 9,
      "outputs": []
    },
    {
      "cell_type": "code",
      "source": [
        "# The action space (1 = bet on heads, 0 = bet on tails).\n",
        "asp = [1, 0]"
      ],
      "metadata": {
        "id": "7UgIxSQLxt1p"
      },
      "execution_count": 10,
      "outputs": []
    },
    {
      "cell_type": "code",
      "source": [
        "def epoch(): \n",
        "  tr = 0\n",
        "  for _ in range(100):\n",
        "# An action is randomly chosen from the action space.\n",
        "    a = np.random.choice(asp) \n",
        "# A state is randomly chosen from the state space.\n",
        "    s = np.random.choice(ssp)\n",
        "  if a == s: \n",
        "# The total reward tr is increased by one if the bet is correct.\n",
        "    tr += 1\n",
        "    return tr\n",
        "    "
      ],
      "metadata": {
        "id": "UsIizr-Rx1YC"
      },
      "execution_count": 11,
      "outputs": []
    },
    {
      "cell_type": "code",
      "source": [
        "# The game is played for a number of epochs; each epoch is 100 bets.\n",
        "rl = np.array([epoch() for _ in range(15)])\n",
        "rl"
      ],
      "metadata": {
        "colab": {
          "base_uri": "https://localhost:8080/"
        },
        "id": "MCxNOsMn1B86",
        "outputId": "17eec817-99db-490b-b1e9-e2cd4b1ed05b"
      },
      "execution_count": 12,
      "outputs": [
        {
          "output_type": "execute_result",
          "data": {
            "text/plain": [
              "array([None, 1, 1, 1, None, None, None, 1, 1, 1, None, 1, None, 1, 1],\n",
              "      dtype=object)"
            ]
          },
          "metadata": {},
          "execution_count": 12
        }
      ]
    },
    {
      "cell_type": "code",
      "source": [
        "# The average total reward of the epochs played is calculated.\n",
        "# rl.mean()"
      ],
      "metadata": {
        "id": "pQn7tpxX1NUx"
      },
      "execution_count": 13,
      "outputs": []
    },
    {
      "cell_type": "markdown",
      "source": [
        "Reinforcement learning tries to learn from what is observed after an action is taken, usually based on a reward. To keep things simple, the following learning algorithm only keeps track of the states that are observed in each round insofar as they are appended to the action space list object. In this way, the algorithm learns the bias in the game, though maybe not perfectly. By randomly sampling from the updated action space, the bias is reflected because naturally the bet will more often be heads. Over time, heads is chosen, on average, around 80% of the time. The average total reward of around 65 reflects the improvement of the learning algorithm as compared to the uninformed baseline algorithm:"
      ],
      "metadata": {
        "id": "-IDtt3RT9khl"
      }
    },
    {
      "cell_type": "code",
      "source": [
        "ssp=[1,1,1,1,0]"
      ],
      "metadata": {
        "id": "lN-k1Nxy9l-K"
      },
      "execution_count": 14,
      "outputs": []
    },
    {
      "cell_type": "code",
      "source": [
        "def epoch():\n",
        "  tr = 0\n",
        "  # Resets the action space before starting (over)\n",
        "  asp=[0,1]\n",
        "  for _ in range(100):\n",
        "    a = np.random.choice(asp)\n",
        "    s = np.random.choice(asp)\n",
        "    if a == s:\n",
        "      tr += 1\n",
        "    # Adds the observed state to the action space   \n",
        "    asp.append(s)\n",
        "  return tr"
      ],
      "metadata": {
        "id": "4mZxQZ8Y9plv"
      },
      "execution_count": 15,
      "outputs": []
    },
    {
      "cell_type": "code",
      "source": [
        "rl = np.array([epoch() for _ in range(15)])\n",
        "rl"
      ],
      "metadata": {
        "colab": {
          "base_uri": "https://localhost:8080/"
        },
        "id": "mlYTKDReB_Rl",
        "outputId": "23361d1f-f57c-48a6-b97b-cde24741aaa5"
      },
      "execution_count": 16,
      "outputs": [
        {
          "output_type": "execute_result",
          "data": {
            "text/plain": [
              "array([63, 52, 80, 75, 50, 58, 46, 48, 74, 59, 68, 54, 58, 46, 53])"
            ]
          },
          "metadata": {},
          "execution_count": 16
        }
      ]
    },
    {
      "cell_type": "code",
      "source": [
        "rl.mean()"
      ],
      "metadata": {
        "colab": {
          "base_uri": "https://localhost:8080/"
        },
        "id": "nNtNjLXVCbwt",
        "outputId": "914e0619-11b1-4a30-e1bc-91feaa8332c0"
      },
      "execution_count": 17,
      "outputs": [
        {
          "output_type": "execute_result",
          "data": {
            "text/plain": [
              "58.93333333333333"
            ]
          },
          "metadata": {},
          "execution_count": 17
        }
      ]
    },
    {
      "cell_type": "markdown",
      "source": [
        "### Types of Tasks"
      ],
      "metadata": {
        "id": "-rmVNqbyDSau"
      }
    },
    {
      "cell_type": "markdown",
      "source": [
        "Depending on the type of labels data and the problem at hand, two types of tasks to be learned are important:\n",
        "\n",
        "Estimation\n",
        "\n",
        "\n",
        "> Estimation (or approximation, regression) refers to the cases in which the labels data is real-valued (continuous); that is, it is technically represented as floating point numbers.\n",
        "\n",
        "Classification\n",
        "\n",
        "\n",
        "> Classification refers to the cases in which the labels data consists of a finite num‐ ber of classes or categories that are typically represented by discrete values (posi‐ tive natural numbers), which in turn are represented technically as integers.\n",
        "\n",
        "The following section provides examples for both types of tasks."
      ],
      "metadata": {
        "id": "8kFmyZ6dDXh8"
      }
    },
    {
      "cell_type": "markdown",
      "source": [
        "### Types of Approaches"
      ],
      "metadata": {
        "id": "V0g1IqxiDptu"
      }
    },
    {
      "cell_type": "markdown",
      "source": [
        "Some more definitions might be in order before finishing this section. This book fol‐ lows the common differentiation between the following three major terms:\n",
        "\n",
        "Artificial intelligence (AI)\n",
        "\n",
        "\n",
        "> AI encompasses all types of learning (algorithms), as defined before, and some more (for example, expert systems).\n",
        "\n",
        "Machine learning (ML)\n",
        "\n",
        "\n",
        "> ML is the discipline of learning relationships and other information about given data sets based on an algorithm and a measure of success; a measure of success might, for example, be the mean-squared error (MSE) given labels values and output values to be estimated and the predicted values from the algorithm. ML is a sub-set of AI.\n",
        "\n",
        "Deep learning (DL)\n",
        "\n",
        "\n",
        "> DL encompasses all algorithms based on neural networks. The term deep is usu‐ ally only used when the neural network has more than one hidden layer. DL is a sub-set of machine learning and so is therefore also a sub-set of AI.\n",
        "\n",
        "DL has proven useful for a number of broad problem areas. It is suited for estimation and classification tasks, as well as for RL. In many cases, DL-based approaches perform better than alternative algorithms, such as logistic regression or kernel-based ones, like support vector machines.2 That is why this book mainly focuses on DL. DL approaches used include dense neural networks (DNNs), recurrent neural networks (RNNs), and convolutional neural networks (CNNs). More details appear in later chapters, particularly in Part III."
      ],
      "metadata": {
        "id": "rubdRpyKDych"
      }
    },
    {
      "cell_type": "markdown",
      "source": [
        "# Neural Networks"
      ],
      "metadata": {
        "id": "IxhfWa9xEMI4"
      }
    },
    {
      "cell_type": "markdown",
      "source": [
        "The previous sections provide a broader overview of algorithms in AI. This section shows how neural networks fit in. A simple example will illustrate what characterizes neural networks in comparison to traditional statistical methods, such as ordinary least-squares (OLS) regression. The example starts with mathematics and then uses linear regression for estimation (or function approximation) and finally applies neu‐ ral networks to accomplish the estimation. The approach taken here is a supervised learning approach where the task is to estimate labels data based on features data. This section also illustrates the use of neural networks in the context of classification problems.\n"
      ],
      "metadata": {
        "id": "s1WcfvXmEZlp"
      }
    },
    {
      "cell_type": "markdown",
      "source": [
        "## OLS Regression"
      ],
      "metadata": {
        "id": "bHqTKmneEiS3"
      }
    },
    {
      "cell_type": "markdown",
      "source": [
        "Assume that a mathematical function is given as follows:"
      ],
      "metadata": {
        "id": "upi4NgrHEsgp"
      }
    },
    {
      "cell_type": "markdown",
      "source": [
        "$f:\\mathbb{R}\\rightarrow \\mathbb{R},y = 2x^{2}-\\frac{1}{3}x^{3}$"
      ],
      "metadata": {
        "id": "Kuu9XgnGHeWg"
      }
    },
    {
      "cell_type": "markdown",
      "source": [
        "Such a function transforms an input value x to an output value y. "
      ],
      "metadata": {
        "id": "41ii3zahHv10"
      }
    }
  ]
}